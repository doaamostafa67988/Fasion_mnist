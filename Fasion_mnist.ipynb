{
 "cells": [
  {
   "cell_type": "code",
   "execution_count": 1,
   "metadata": {
    "colab": {
     "base_uri": "https://localhost:8080/"
    },
    "id": "OpOfR1j2corv",
    "outputId": "4f15daf4-255b-4fd3-bc60-9df952220e8c"
   },
   "outputs": [
    {
     "name": "stdout",
     "output_type": "stream",
     "text": [
      "Downloading data from https://storage.googleapis.com/tensorflow/tf-keras-datasets/train-labels-idx1-ubyte.gz\n",
      "32768/29515 [=================================] - 0s 0us/step\n",
      "40960/29515 [=========================================] - 0s 0us/step\n",
      "Downloading data from https://storage.googleapis.com/tensorflow/tf-keras-datasets/train-images-idx3-ubyte.gz\n",
      "26427392/26421880 [==============================] - 0s 0us/step\n",
      "26435584/26421880 [==============================] - 0s 0us/step\n",
      "Downloading data from https://storage.googleapis.com/tensorflow/tf-keras-datasets/t10k-labels-idx1-ubyte.gz\n",
      "16384/5148 [===============================================================================================] - 0s 0us/step\n",
      "Downloading data from https://storage.googleapis.com/tensorflow/tf-keras-datasets/t10k-images-idx3-ubyte.gz\n",
      "4423680/4422102 [==============================] - 0s 0us/step\n",
      "4431872/4422102 [==============================] - 0s 0us/step\n",
      "Epoch 1/10\n",
      "1875/1875 [==============================] - 55s 29ms/step - loss: 0.3948 - accuracy: 0.8594\n",
      "Epoch 2/10\n",
      "1875/1875 [==============================] - 46s 24ms/step - loss: 0.2678 - accuracy: 0.9038\n",
      "Epoch 3/10\n",
      "1875/1875 [==============================] - 42s 23ms/step - loss: 0.2228 - accuracy: 0.9183\n",
      "Epoch 4/10\n",
      "1875/1875 [==============================] - 40s 21ms/step - loss: 0.1890 - accuracy: 0.9306\n",
      "Epoch 5/10\n",
      "1875/1875 [==============================] - 44s 24ms/step - loss: 0.1613 - accuracy: 0.9405\n",
      "Epoch 6/10\n",
      "1875/1875 [==============================] - 44s 23ms/step - loss: 0.1346 - accuracy: 0.9498\n",
      "Epoch 7/10\n",
      "1875/1875 [==============================] - 45s 24ms/step - loss: 0.1152 - accuracy: 0.9573\n",
      "Epoch 8/10\n",
      "1875/1875 [==============================] - 43s 23ms/step - loss: 0.0955 - accuracy: 0.9657\n",
      "Epoch 9/10\n",
      "1875/1875 [==============================] - 44s 23ms/step - loss: 0.0802 - accuracy: 0.9705\n",
      "Epoch 10/10\n",
      "1875/1875 [==============================] - 42s 22ms/step - loss: 0.0681 - accuracy: 0.9754\n",
      "313/313 [==============================] - 2s 6ms/step - loss: 0.3335 - accuracy: 0.9118\n",
      "0.9118000268936157\n"
     ]
    }
   ],
   "source": [
    "# Note that the test will expect it to classify 10 classes and that the\n",
    "# input shape should be the native size of the Fashion MNIST dataset which is\n",
    "# 28x28 monochrome. Do not resize the data. Your input layer should accept\n",
    "# (28,28) as the input shape only. If you amend this, the tests will fail.\n",
    "#\n",
    "import tensorflow as tf\n",
    "\n",
    "\n",
    "def solution_model():\n",
    "    fashion_mnist = tf.keras.datasets.fashion_mnist\n",
    "\n",
    "    \n",
    "    (training_images, training_labels), (test_images, test_labels) = fashion_mnist.load_data()\n",
    "    training_images = training_images.reshape(60000, 28, 28, 1)\n",
    "    training_images = training_images / 255.0\n",
    "    test_images = test_images.reshape(10000, 28, 28, 1)\n",
    "    test_images = test_images / 255.0\n",
    "    model = tf.keras.models.Sequential([\n",
    "        tf.keras.layers.Conv2D(32, (3, 3), activation='relu', input_shape=(28, 28, 1)),\n",
    "        tf.keras.layers.MaxPooling2D(2, 2),\n",
    "        tf.keras.layers.Flatten(),\n",
    "        tf.keras.layers.Dense(128, activation='relu'),\n",
    "        tf.keras.layers.Dense(10, activation='softmax')\n",
    "    ])\n",
    "    # fixed  line\n",
    "    model.compile(optimizer='adam', loss='sparse_categorical_crossentropy', metrics=['accuracy'])\n",
    "    # Fixed Line but we will remove \"callbacks\" if we won't use it.\n",
    "    model.fit(training_images, training_labels, epochs=10)\n",
    "\n",
    "    test_loss, test_acc = model.evaluate(test_images, test_labels)\n",
    "    print(test_acc)\n",
    "\n",
    "    # YOUR CODE HERE\n",
    "    return model\n",
    "\n",
    "\n",
    "# Note that you'll need to save your model as a .h5 like this.\n",
    "# When you press the Submit and Test button, your saved .h5 model will\n",
    "# be sent to the testing infrastructure for scoring\n",
    "# and the score will be returned to you.\n",
    "if __name__ == '__main__':\n",
    "    model = solution_model()\n",
    "    model.save(\"mymodel.h5\")"
   ]
  },
  {
   "cell_type": "code",
   "execution_count": null,
   "metadata": {
    "id": "OHLua-rFcpPa"
   },
   "outputs": [],
   "source": []
  }
 ],
 "metadata": {
  "colab": {
   "collapsed_sections": [],
   "name": "Welcome to Colaboratory",
   "provenance": []
  },
  "kernelspec": {
   "display_name": "Python 3",
   "language": "python",
   "name": "python3"
  },
  "language_info": {
   "codemirror_mode": {
    "name": "ipython",
    "version": 3
   },
   "file_extension": ".py",
   "mimetype": "text/x-python",
   "name": "python",
   "nbconvert_exporter": "python",
   "pygments_lexer": "ipython3",
   "version": "3.8.8"
  }
 },
 "nbformat": 4,
 "nbformat_minor": 1
}
